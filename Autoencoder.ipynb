{
  "nbformat": 4,
  "nbformat_minor": 0,
  "metadata": {
    "colab": {
      "provenance": []
    },
    "kernelspec": {
      "name": "python3",
      "display_name": "Python 3"
    },
    "language_info": {
      "name": "python"
    }
  },
  "cells": [
    {
      "cell_type": "markdown",
      "source": [
        "# Creating an Autoencoder\n",
        "\n",
        "This notebook explores the generation of autoencoder networks that trains on 27x27 pixel images of randomly generated circles. The autoencoders will be restricted to a use of no more than 30,000 randomly generated samples in order to compare the effects of the bottleneck size.\n",
        "\n"
      ],
      "metadata": {
        "id": "zsxrYp-M0i7g"
      }
    },
    {
      "cell_type": "markdown",
      "source": [
        "## Import Modules\n",
        "Firstly, we need to import the modules necessary for our neural network training and cost function output."
      ],
      "metadata": {
        "id": "pLBHaboXz5Eu"
      }
    },
    {
      "cell_type": "code",
      "source": [
        "import matplotlib.pyplot as plt\n",
        "import numpy as np\n",
        "import math\n",
        "\n",
        "import tensorflow as tf\n",
        "from tensorflow import keras\n",
        "\n",
        "import matplotlib.style #Some style nonsense\n",
        "import matplotlib as mpl #Some more style nonsense"
      ],
      "metadata": {
        "id": "VugvOXyh0kN3"
      },
      "execution_count": 1,
      "outputs": []
    },
    {
      "cell_type": "markdown",
      "source": [
        "## Function definition\n",
        "The functions defined below will allow us to turn a desired function into pixel image of a specified size, train our network on it, display our inputs and outputs and print out some important information about our network such as the layer sizes."
      ],
      "metadata": {
        "id": "K0u0nD7W0EJu"
      }
    },
    {
      "cell_type": "code",
      "source": [
        "#A big messy function to do the training\n",
        "# model -- our keras neural model autoencoder\n",
        "# image_generator -- a function to generate random images for the training (see below for examples)\n",
        "# img_size -- the size of our image in pixels\n",
        "# batchsize -- the number of images to include in each training batch\n",
        "# steps -- the number of steps taken in the training\n",
        "#\n",
        "# returns an array of the costs\n",
        "def generate_and_train(model,image_generator,img_size,batchsize,steps):\n",
        "\n",
        "    #Generate an array of the numbers 1 to img_size and create a meshgrid from them\n",
        "    pixels=np.linspace(-1,1,img_size)\n",
        "    x,y=np.meshgrid(pixels,pixels)\n",
        "\n",
        "    #Now create a test image using 1 call to image_generator\n",
        "    #y_test=np.zeros([1,pixels,pixels,1])\n",
        "    #y_test[:,:,:,0]=image_generator(1,x,y)\n",
        "\n",
        "    #Now create the empty arrays for the images and cost\n",
        "    y_in=np.zeros([batchsize,img_size,img_size,1])\n",
        "    y_target=np.zeros([batchsize,img_size,img_size,1])\n",
        "    cost=np.zeros(steps)\n",
        "\n",
        "    #Loop through the steps, get a random batch of samples, train the model, repeat\n",
        "    for k in range(steps):\n",
        "        # produce samples:\n",
        "        y_in[:,:,:,0]=image_generator(batchsize,x,y)\n",
        "        y_target=np.copy(y_in) # autoencoder wants to reproduce its input!\n",
        "\n",
        "        # do one training step on this batch of samples:\n",
        "        cost[k]=model.train_on_batch(y_in,y_target)\n",
        "\n",
        "    return cost,y_target\n",
        "\n",
        "def get_test_image(image_generator,img_size):\n",
        "    #Generate an array of the numbers 1 to img_size and create a meshgrid from them\n",
        "    pixels=np.linspace(-1,1,img_size)\n",
        "    x,y=np.meshgrid(pixels,pixels)\n",
        "\n",
        "    #Now create a test image using 1 call to image_generator\n",
        "    y_test=np.zeros([1,img_size,img_size,1])\n",
        "    y_test[:,:,:,0]=image_generator(1,x,y)\n",
        "    return y_test\n",
        "\n",
        "# A function to generate and plot a single test image and the output of our model\n",
        "# only to be called after training the model\n",
        "def plot_test_image(model,image_generator,img_size):\n",
        "    #Get random test image\n",
        "    y_test=get_test_image(image_generator,img_size)\n",
        "\n",
        "    #Create the output image\n",
        "    y_test_out=model.predict_on_batch(y_test)\n",
        "    fig, ax = plt.subplots(1,2)\n",
        "    ax[0].imshow(y_test[0,:,:,0],origin='lower')\n",
        "    ax[0].set_title(\"Input\")\n",
        "    ax[1].imshow(y_test_out[0,:,:,0],origin='lower')\n",
        "    ax[1].set_title(\"Output\")\n",
        "\n",
        "def print_layers(network, y_in):\n",
        "    \"\"\"\n",
        "    Call this on some test images y_in, to get a print-out of\n",
        "    the layer sizes. Shapes shown are (batchsize,pixels,pixels,channels).\n",
        "    After a call to the visualization routine, y_target will contain\n",
        "    the last set of training images, so you could feed those in here.\n",
        "    \"\"\"\n",
        "    layer_features=get_layer_activations(network,y_in)\n",
        "    #print(layer_features)\n",
        "    for idx,feature in enumerate(layer_features):\n",
        "        s=np.shape(feature)\n",
        "        print(\"Layer \"+str(idx)+\": \"+str(s[1]*s[2]*s[3])+\" neurons / \", s)\n",
        "\n",
        "def get_layer_activation_extractor(network):\n",
        "    #print(network.inputs)\n",
        "    #for layer in network.layers:\n",
        "    #    print(layer.output)\n",
        "    return(keras.Model(inputs=network.inputs,\n",
        "                            outputs=[layer.output for layer in network.layers]))\n",
        "\n",
        "def get_layer_activations(network, y_in):\n",
        "    \"\"\"\n",
        "    Call this on some test images y_in, to get the intermediate\n",
        "    layer neuron values. These are returned in a list, with one\n",
        "    entry for each layer (the entries are arrays).\n",
        "    \"\"\"\n",
        "    extractor=get_layer_activation_extractor(network)\n",
        "    #print(extractor)\n",
        "    layer_features = extractor(y_in)\n",
        "    return layer_features"
      ],
      "metadata": {
        "id": "BVZuZ7r30usA"
      },
      "execution_count": 2,
      "outputs": []
    },
    {
      "cell_type": "markdown",
      "source": [
        "## Circle generator\n",
        "The code cell below defines a function that will generate a circle that will be randomly placed in a pixel image of x*y dimension. We will use this to train our autoencoder."
      ],
      "metadata": {
        "id": "X-OBBhej01cZ"
      }
    },
    {
      "cell_type": "code",
      "source": [
        "# A simple image generator that returns an array of batchsize images\n",
        "# each image has a size of x * y pixels\n",
        "# in this image each image has a randomly placed circle (and the circle is of random size)\n",
        "def circle_generator(batchsize,x,y):\n",
        "  '''Defines a circle of random size which is randomly placed in an image of x*y pixels'''\n",
        "  R=np.random.uniform(size=batchsize)\n",
        "  x0=np.random.uniform(size=batchsize,low=-1,high=1)\n",
        "  y0=np.random.uniform(size=batchsize,low=-1,high=1)\n",
        "  return( 1.0*((x[None,:,:]-x0[:,None,None])**2 + (y[None,:,:]-y0[:,None,None])**2 < R[:,None,None]**2) )\n"
      ],
      "metadata": {
        "id": "A2rJ4VJj024Y"
      },
      "execution_count": 4,
      "outputs": []
    },
    {
      "cell_type": "markdown",
      "source": [
        "## Our first autoencoder\n",
        "Now we can define an autoencoder with 9 neurons in the bottleneck that will be trained on our circle image. This network will only consist of convolutional and pooling layers and uses the 'mean_squared_error' cost function."
      ],
      "metadata": {
        "id": "w_M2kpln04Z9"
      }
    },
    {
      "cell_type": "code",
      "source": [
        "model=keras.models.Sequential()\n",
        "model.add(keras.layers.Conv2D(16, 3, input_shape=(None, None, 1),\n",
        "               activation=\"relu\", padding='same'))\n",
        "model.add(keras.layers.AveragePooling2D(pool_size=(3,3), padding='same')) # down\n",
        "model.add(keras.layers.Conv2D(8,3, activation=\"relu\", padding='same'))\n",
        "model.add(keras.layers.AveragePooling2D(pool_size=(3,3), padding='same')) # down\n",
        "model.add(keras.layers.Conv2D(1, 3, activation=\"relu\", padding='same'))\n",
        "model.add(keras.layers.UpSampling2D(size=(3,3))) # up\n",
        "model.add(keras.layers.Conv2D(8,3, activation=\"relu\", padding='same'))\n",
        "model.add(keras.layers.UpSampling2D(size=(3,3))) # up\n",
        "model.add(keras.layers.Conv2D(16, 3, activation=\"relu\", padding='same'))\n",
        "model.add(keras.layers.Conv2D(1, 3, activation=\"linear\", padding='same'))\n",
        "model.compile(loss='mean_squared_error',\n",
        "              optimizer='adam')\n",
        "model.summary()"
      ],
      "metadata": {
        "colab": {
          "base_uri": "https://localhost:8080/"
        },
        "id": "wBD3Rx771j65",
        "outputId": "4347601f-2659-418b-eb2a-978a31441540"
      },
      "execution_count": 5,
      "outputs": [
        {
          "output_type": "stream",
          "name": "stdout",
          "text": [
            "Model: \"sequential\"\n",
            "_________________________________________________________________\n",
            " Layer (type)                Output Shape              Param #   \n",
            "=================================================================\n",
            " conv2d (Conv2D)             (None, None, None, 16)    160       \n",
            "                                                                 \n",
            " average_pooling2d (Average  (None, None, None, 16)    0         \n",
            " Pooling2D)                                                      \n",
            "                                                                 \n",
            " conv2d_1 (Conv2D)           (None, None, None, 8)     1160      \n",
            "                                                                 \n",
            " average_pooling2d_1 (Avera  (None, None, None, 8)     0         \n",
            " gePooling2D)                                                    \n",
            "                                                                 \n",
            " conv2d_2 (Conv2D)           (None, None, None, 1)     73        \n",
            "                                                                 \n",
            " up_sampling2d (UpSampling2  (None, None, None, 1)     0         \n",
            " D)                                                              \n",
            "                                                                 \n",
            " conv2d_3 (Conv2D)           (None, None, None, 8)     80        \n",
            "                                                                 \n",
            " up_sampling2d_1 (UpSamplin  (None, None, None, 8)     0         \n",
            " g2D)                                                            \n",
            "                                                                 \n",
            " conv2d_4 (Conv2D)           (None, None, None, 16)    1168      \n",
            "                                                                 \n",
            " conv2d_5 (Conv2D)           (None, None, None, 1)     145       \n",
            "                                                                 \n",
            "=================================================================\n",
            "Total params: 2786 (10.88 KB)\n",
            "Trainable params: 2786 (10.88 KB)\n",
            "Non-trainable params: 0 (0.00 Byte)\n",
            "_________________________________________________________________\n"
          ]
        }
      ]
    },
    {
      "cell_type": "markdown",
      "source": [
        "Time to train this network on the circle function and assess its performance in recreating the original image."
      ],
      "metadata": {
        "id": "Us-KxrLT1Vab"
      }
    },
    {
      "cell_type": "code",
      "source": [
        "steps=400 # step\n",
        "cost,y_target=generate_and_train(model,circle_generator,img_size=9*3,batchsize=75,steps=steps)\n",
        "#Plot the cost function\n",
        "fig, ax = plt.subplots()\n",
        "stepArray=np.arange(steps) # sort steps into array\n",
        "ax.plot(stepArray,cost,linewidth=3) # plot cost\n",
        "ax.set_xlabel(\"Step Number\")\n",
        "ax.set_ylabel(\"Cost\")\n",
        "print(min(cost))"
      ],
      "metadata": {
        "id": "ySdbsVVg3ngf",
        "colab": {
          "base_uri": "https://localhost:8080/",
          "height": 466
        },
        "outputId": "a8f4b004-b670-415f-e8d9-1a9c57ecb49b"
      },
      "execution_count": 6,
      "outputs": [
        {
          "output_type": "stream",
          "name": "stdout",
          "text": [
            "0.02163921482861042\n"
          ]
        },
        {
          "output_type": "display_data",
          "data": {
            "text/plain": [
              "<Figure size 640x480 with 1 Axes>"
            ],
            "image/png": "[encoded data removed]"
          },
          "metadata": {}
        }
      ]
    },
    {
      "cell_type": "code",
      "source": [
        "print_layers(model,y_target) # check the number of neurons in each layer of our network"
      ],
      "metadata": {
        "colab": {
          "base_uri": "https://localhost:8080/"
        },
        "id": "J7xkBpsTDfPB",
        "outputId": "bb3af0d3-d087-4b21-8892-3dbdfe327d17"
      },
      "execution_count": 7,
      "outputs": [
        {
          "output_type": "stream",
          "name": "stdout",
          "text": [
            "Layer 0: 11664 neurons /  (75, 27, 27, 16)\n",
            "Layer 1: 1296 neurons /  (75, 9, 9, 16)\n",
            "Layer 2: 648 neurons /  (75, 9, 9, 8)\n",
            "Layer 3: 72 neurons /  (75, 3, 3, 8)\n",
            "Layer 4: 9 neurons /  (75, 3, 3, 1)\n",
            "Layer 5: 81 neurons /  (75, 9, 9, 1)\n",
            "Layer 6: 648 neurons /  (75, 9, 9, 8)\n",
            "Layer 7: 5832 neurons /  (75, 27, 27, 8)\n",
            "Layer 8: 11664 neurons /  (75, 27, 27, 16)\n",
            "Layer 9: 729 neurons /  (75, 27, 27, 1)\n"
          ]
        }
      ]
    },
    {
      "cell_type": "markdown",
      "source": [
        "## An even more condensed autoencoder\n",
        "Great! A cost of less than 0.02 has been achieved with our autoencoder that has a bottleneck of 9 neurons. Let's see what happens if we try to bottleneck our network even more with only 3 neurons holding all the image information in the middle. Again, our network will only consist of convolutional and pooling layers."
      ],
      "metadata": {
        "id": "gdZ6yIEL1io0"
      }
    },
    {
      "cell_type": "code",
      "source": [
        "model2 = keras.models.Sequential()\n",
        "model2.add(keras.layers.Conv2D(32, 3, input_shape=(None, None, 1),\n",
        "               activation=\"relu\", padding='same'))\n",
        "model2.add(keras.layers.AveragePooling2D(pool_size=(3,3), padding='same')) # down\n",
        "model2.add(keras.layers.Conv2D(16, 3, activation=\"relu\", padding='same'))\n",
        "model2.add(keras.layers.AveragePooling2D(pool_size=(3,3), padding='same')) # down\n",
        "model2.add(keras.layers.Conv2D(8,3, activation=\"relu\", padding='same'))\n",
        "model2.add(keras.layers.AveragePooling2D(pool_size=(3,3), padding='same')) # down\n",
        "model2.add(keras.layers.Conv2D(3, 3, activation=\"relu\", padding='same'))\n",
        "model2.add(keras.layers.UpSampling2D(size=(3,3))) # up\n",
        "model2.add(keras.layers.Conv2D(8, 3, activation=\"relu\", padding='same'))\n",
        "model2.add(keras.layers.UpSampling2D(size=(3,3))) # up\n",
        "model2.add(keras.layers.Conv2D(16, 3, activation=\"relu\", padding='same'))\n",
        "model2.add(keras.layers.UpSampling2D(size=(3,3))) # up\n",
        "model2.add(keras.layers.Conv2D(32, 3, activation=\"relu\", padding='same'))\n",
        "model2.add(keras.layers.Conv2D(1, 3, activation=\"linear\", padding='same'))\n",
        "model2.compile(loss='mean_squared_error',\n",
        "              optimizer='adam')"
      ],
      "metadata": {
        "id": "G84XI8jYKsLW"
      },
      "execution_count": 8,
      "outputs": []
    },
    {
      "cell_type": "markdown",
      "source": [
        "And now to see how the cost function behaves with this even more condensed network."
      ],
      "metadata": {
        "id": "HiKaMzMn2MyV"
      }
    },
    {
      "cell_type": "code",
      "source": [
        "steps=400\n",
        "cost,y_target=generate_and_train(model2,circle_generator,img_size=9*3,batchsize=75,steps=steps) # train and get cost on 27x27 image\n",
        "#Plot the cost\n",
        "fig, ax = plt.subplots()\n",
        "stepArray=np.arange(steps) # sort steps into array\n",
        "ax.plot(stepArray,cost,linewidth=3) # plot cost\n",
        "ax.set_xlabel(\"Step Number\")\n",
        "ax.set_ylabel(\"Cost\")"
      ],
      "metadata": {
        "colab": {
          "base_uri": "https://localhost:8080/",
          "height": 466
        },
        "id": "yTl0HiL_N8Q2",
        "outputId": "e0bc7c0c-22e7-46a3-d69a-e16c236b94a5"
      },
      "execution_count": 9,
      "outputs": [
        {
          "output_type": "execute_result",
          "data": {
            "text/plain": [
              "Text(0, 0.5, 'Cost')"
            ]
          },
          "metadata": {},
          "execution_count": 9
        },
        {
          "output_type": "display_data",
          "data": {
            "text/plain": [
              "<Figure size 640x480 with 1 Axes>"
            ],
            "image/png": "[encoded data removed]"
          },
          "metadata": {}
        }
      ]
    },
    {
      "cell_type": "code",
      "source": [
        "print_layers(model2,y_target) # check number of neurons in layers of network"
      ],
      "metadata": {
        "colab": {
          "base_uri": "https://localhost:8080/"
        },
        "id": "D1HMg8JVN-KE",
        "outputId": "81d34b58-60a9-4e68-bf1d-27432303ebdd"
      },
      "execution_count": 11,
      "outputs": [
        {
          "output_type": "stream",
          "name": "stdout",
          "text": [
            "Layer 0: 23328 neurons /  (75, 27, 27, 32)\n",
            "Layer 1: 2592 neurons /  (75, 9, 9, 32)\n",
            "Layer 2: 1296 neurons /  (75, 9, 9, 16)\n",
            "Layer 3: 144 neurons /  (75, 3, 3, 16)\n",
            "Layer 4: 72 neurons /  (75, 3, 3, 8)\n",
            "Layer 5: 8 neurons /  (75, 1, 1, 8)\n",
            "Layer 6: 3 neurons /  (75, 1, 1, 3)\n",
            "Layer 7: 27 neurons /  (75, 3, 3, 3)\n",
            "Layer 8: 72 neurons /  (75, 3, 3, 8)\n",
            "Layer 9: 648 neurons /  (75, 9, 9, 8)\n",
            "Layer 10: 1296 neurons /  (75, 9, 9, 16)\n",
            "Layer 11: 11664 neurons /  (75, 27, 27, 16)\n",
            "Layer 12: 23328 neurons /  (75, 27, 27, 32)\n",
            "Layer 13: 729 neurons /  (75, 27, 27, 1)\n"
          ]
        }
      ]
    },
    {
      "cell_type": "markdown",
      "source": [
        "Our autoencoder with only 3 neurons in the bottleneck has proved to be quite effective in recreating the image with a cost as low as 0.02!\n",
        "\n",
        "## Conclusion\n",
        "It is easy to realise that a lower number of neurons in the bottleneck would cause the autoencoder's output to be worse, as expected because at that point those few neurons are holding all of the information of the original image meaning that a lot of the components would be lost. This is why to achieve such a low cost as we have done above, the network has been made a lot more complicated with many more total neurons than the original network with 9 in the bottleneck. This comes at the cost of computational power, as demonstrated by the second network taking a lot longer to train than the first. This may be worth the trade-off if one is aiming to maximally compress some images/data and the computational power/efficiency is not of much concern."
      ],
      "metadata": {
        "id": "TRGp8kqa9qKA"
      }
    },
    {
      "cell_type": "code",
      "source": [],
      "metadata": {
        "id": "YLZV_bK5_X_H"
      },
      "execution_count": null,
      "outputs": []
    }
  ]
}